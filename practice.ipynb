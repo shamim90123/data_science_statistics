{
 "cells": [
  {
   "cell_type": "code",
   "execution_count": 5,
   "id": "996d36e7-737b-45d1-9156-17923695e102",
   "metadata": {},
   "outputs": [
    {
     "name": "stdout",
     "output_type": "stream",
     "text": [
      "         Duration  Average_Pulse   Max_Pulse  Calorie_Burnage  Hours_Work\n",
      "count    8.000000       8.000000    8.000000         8.000000    8.000000\n",
      "mean    93.782291     105.043623  124.203870       461.824401   24.413784\n",
      "std     93.836043      46.508116   50.307860       576.063632   56.118974\n",
      "min     15.000000      14.625062   16.403967        50.000000    0.000000\n",
      "25%     44.498630      95.000000  118.000000       233.125000    2.942829\n",
      "50%     60.000000     106.361963  132.613497       297.113553    4.693252\n",
      "75%     88.947853     123.000000  146.500000       383.901073    8.750000\n",
      "max    300.000000     163.000000  184.000000      1860.000000  163.000000\n"
     ]
    }
   ],
   "source": [
    "import pandas as pd\n",
    "\n",
    "full_health_data = pd.read_csv(\"data.csv\", header=0, sep=\",\")\n",
    "\n",
    "pd.set_option('display.max_columns',None)\n",
    "pd.set_option('display.max_rows',None)\n",
    "\n",
    "print (full_health_data.describe())\n"
   ]
  },
  {
   "cell_type": "code",
   "execution_count": 6,
   "id": "13e08fae-ddae-4897-b61c-ad75fa00cfb0",
   "metadata": {},
   "outputs": [
    {
     "name": "stdout",
     "output_type": "stream",
     "text": [
      "74.9211901\n"
     ]
    }
   ],
   "source": [
    "import pandas as pd\n",
    "import numpy as np\n",
    "\n",
    "full_health_data = pd.read_csv(\"data.csv\", header=0, sep=\",\")\n",
    "\n",
    "Max_Pulse= full_health_data[\"Max_Pulse\"]\n",
    "percentile10 = np.percentile(Max_Pulse, 10)\n",
    "\n",
    "print(percentile10)\n"
   ]
  },
  {
   "cell_type": "code",
   "execution_count": 9,
   "id": "241e497e-c444-4716-a541-defb780b68ad",
   "metadata": {},
   "outputs": [
    {
     "name": "stdout",
     "output_type": "stream",
     "text": [
      "Mean: 80.0\n",
      "Variance: 50.0\n",
      "Standard Deviation: 7.0710678118654755\n"
     ]
    }
   ],
   "source": [
    "import math\n",
    "\n",
    "# Sample data\n",
    "scores = [70, 75, 80, 85, 90]\n",
    "\n",
    "# Step 1: Calculate the mean\n",
    "mean = sum(scores) / len(scores)\n",
    "\n",
    "# Step 2: Calculate the variance\n",
    "squared_differences = [(score - mean) ** 2 for score in scores]\n",
    "variance = sum(squared_differences) / len(scores)\n",
    "\n",
    "# Step 3: Calculate the standard deviation\n",
    "standard_deviation = math.sqrt(variance)\n",
    "\n",
    "# Print the results\n",
    "print(\"Mean:\", mean)\n",
    "print(\"Variance:\", variance)\n",
    "print(\"Standard Deviation:\", standard_deviation)"
   ]
  },
  {
   "cell_type": "code",
   "execution_count": null,
   "id": "3d4777c6-0513-4fbf-9d02-a42d2da80806",
   "metadata": {},
   "outputs": [],
   "source": []
  }
 ],
 "metadata": {
  "kernelspec": {
   "display_name": "Python 3 (ipykernel)",
   "language": "python",
   "name": "python3"
  },
  "language_info": {
   "codemirror_mode": {
    "name": "ipython",
    "version": 3
   },
   "file_extension": ".py",
   "mimetype": "text/x-python",
   "name": "python",
   "nbconvert_exporter": "python",
   "pygments_lexer": "ipython3",
   "version": "3.12.6"
  }
 },
 "nbformat": 4,
 "nbformat_minor": 5
}
